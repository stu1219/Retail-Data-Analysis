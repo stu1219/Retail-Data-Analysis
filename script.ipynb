{
 "cells": [
  {
   "cell_type": "markdown",
   "id": "cd574177",
   "metadata": {},
   "source": [
    "## IT 441, Assignment 4  \n",
    "## Author : Sai Ram Gandla"
   ]
  },
  {
   "cell_type": "code",
   "execution_count": 249,
   "id": "1abb98f5",
   "metadata": {},
   "outputs": [],
   "source": [
    "#import os\n",
    "import pandas as pd"
   ]
  },
  {
   "cell_type": "code",
   "execution_count": 250,
   "id": "68e4360f",
   "metadata": {},
   "outputs": [
    {
     "data": {
      "text/plain": [
       "'C:\\\\Users\\\\sgandla\\\\OneDrive - IL State University\\\\Desktop\\\\IT 441 Big Data\\\\Assignment 4'"
      ]
     },
     "execution_count": 250,
     "metadata": {},
     "output_type": "execute_result"
    }
   ],
   "source": [
    " #os.getcwd()"
   ]
  },
  {
   "cell_type": "code",
   "execution_count": 248,
   "id": "e198baf6",
   "metadata": {},
   "outputs": [
    {
     "data": {
      "text/html": [
       "<div>\n",
       "<style scoped>\n",
       "    .dataframe tbody tr th:only-of-type {\n",
       "        vertical-align: middle;\n",
       "    }\n",
       "\n",
       "    .dataframe tbody tr th {\n",
       "        vertical-align: top;\n",
       "    }\n",
       "\n",
       "    .dataframe thead th {\n",
       "        text-align: right;\n",
       "    }\n",
       "</style>\n",
       "<table border=\"1\" class=\"dataframe\">\n",
       "  <thead>\n",
       "    <tr style=\"text-align: right;\">\n",
       "      <th></th>\n",
       "      <th>InvoiceNo</th>\n",
       "      <th>StockCode</th>\n",
       "      <th>Description</th>\n",
       "      <th>Quantity</th>\n",
       "      <th>InvoiceDate</th>\n",
       "      <th>UnitPrice</th>\n",
       "      <th>CustomerID</th>\n",
       "      <th>Country</th>\n",
       "    </tr>\n",
       "  </thead>\n",
       "  <tbody>\n",
       "    <tr>\n",
       "      <th>0</th>\n",
       "      <td>536365</td>\n",
       "      <td>85123A</td>\n",
       "      <td>WHITE HANGING HEART T-LIGHT HOLDER</td>\n",
       "      <td>6</td>\n",
       "      <td>12/1/2010 8:26</td>\n",
       "      <td>2.55</td>\n",
       "      <td>17850.0</td>\n",
       "      <td>United Kingdom</td>\n",
       "    </tr>\n",
       "    <tr>\n",
       "      <th>1</th>\n",
       "      <td>536365</td>\n",
       "      <td>71053</td>\n",
       "      <td>WHITE METAL LANTERN</td>\n",
       "      <td>6</td>\n",
       "      <td>12/1/2010 8:26</td>\n",
       "      <td>3.39</td>\n",
       "      <td>17850.0</td>\n",
       "      <td>United Kingdom</td>\n",
       "    </tr>\n",
       "    <tr>\n",
       "      <th>2</th>\n",
       "      <td>536365</td>\n",
       "      <td>84406B</td>\n",
       "      <td>CREAM CUPID HEARTS COAT HANGER</td>\n",
       "      <td>8</td>\n",
       "      <td>12/1/2010 8:26</td>\n",
       "      <td>2.75</td>\n",
       "      <td>17850.0</td>\n",
       "      <td>United Kingdom</td>\n",
       "    </tr>\n",
       "    <tr>\n",
       "      <th>3</th>\n",
       "      <td>536365</td>\n",
       "      <td>84029G</td>\n",
       "      <td>KNITTED UNION FLAG HOT WATER BOTTLE</td>\n",
       "      <td>6</td>\n",
       "      <td>12/1/2010 8:26</td>\n",
       "      <td>3.39</td>\n",
       "      <td>17850.0</td>\n",
       "      <td>United Kingdom</td>\n",
       "    </tr>\n",
       "    <tr>\n",
       "      <th>4</th>\n",
       "      <td>536365</td>\n",
       "      <td>84029E</td>\n",
       "      <td>RED WOOLLY HOTTIE WHITE HEART.</td>\n",
       "      <td>6</td>\n",
       "      <td>12/1/2010 8:26</td>\n",
       "      <td>3.39</td>\n",
       "      <td>17850.0</td>\n",
       "      <td>United Kingdom</td>\n",
       "    </tr>\n",
       "  </tbody>\n",
       "</table>\n",
       "</div>"
      ],
      "text/plain": [
       "  InvoiceNo StockCode                          Description  Quantity  \\\n",
       "0    536365    85123A   WHITE HANGING HEART T-LIGHT HOLDER         6   \n",
       "1    536365     71053                  WHITE METAL LANTERN         6   \n",
       "2    536365    84406B       CREAM CUPID HEARTS COAT HANGER         8   \n",
       "3    536365    84029G  KNITTED UNION FLAG HOT WATER BOTTLE         6   \n",
       "4    536365    84029E       RED WOOLLY HOTTIE WHITE HEART.         6   \n",
       "\n",
       "      InvoiceDate  UnitPrice  CustomerID         Country  \n",
       "0  12/1/2010 8:26       2.55     17850.0  United Kingdom  \n",
       "1  12/1/2010 8:26       3.39     17850.0  United Kingdom  \n",
       "2  12/1/2010 8:26       2.75     17850.0  United Kingdom  \n",
       "3  12/1/2010 8:26       3.39     17850.0  United Kingdom  \n",
       "4  12/1/2010 8:26       3.39     17850.0  United Kingdom  "
      ]
     },
     "execution_count": 248,
     "metadata": {},
     "output_type": "execute_result"
    }
   ],
   "source": [
    "df = pd.read_csv(\"Online Retail-1.csv\")\n",
    "df.head()"
   ]
  },
  {
   "cell_type": "markdown",
   "id": "3c8892eb",
   "metadata": {},
   "source": [
    "Display the first five rows:"
   ]
  },
  {
   "cell_type": "markdown",
   "id": "af8aba8a",
   "metadata": {},
   "source": [
    "Are there missing values in the dataset?"
   ]
  },
  {
   "cell_type": "code",
   "execution_count": 237,
   "id": "cdfd6042",
   "metadata": {},
   "outputs": [
    {
     "name": "stdout",
     "output_type": "stream",
     "text": [
      "Dropped 135080 lines with missing values.\n"
     ]
    }
   ],
   "source": [
    "\n",
    "initial_count = len(df)\n",
    "repeated_count = df.dropna(inplace=True)\n",
    "rows_dropped = initial_count - len(df_no_duplicates)\n",
    "print(f\"Dropped {rows_dropped} lines with missing values.\")"
   ]
  },
  {
   "cell_type": "markdown",
   "id": "4a6cf9e9",
   "metadata": {},
   "source": [
    "Give a general description about the dataset:"
   ]
  },
  {
   "cell_type": "code",
   "execution_count": 239,
   "id": "444078c9",
   "metadata": {},
   "outputs": [
    {
     "name": "stdout",
     "output_type": "stream",
     "text": [
      "The dataset contains 406829 transactions generated by 4372 customers from 37 countries.\n",
      "There are 4906888 items sold and in $8,300,065.81 dollars.\n"
     ]
    }
   ],
   "source": [
    "cust_count = df['CustomerID'].nunique() \n",
    "country_count = df['Country'].nunique()\n",
    "quant = df['Quantity'].sum()\n",
    "sales = (df['Quantity'] * df['UnitPrice']).sum()\n",
    "print(f\"The dataset contains {entries} transactions generated by {cust_count} customers from {country_count} countries.\")\n",
    "print(f\"There are {quant} items sold and in ${sales:,.2f} dollars.\")\n",
    "\n"
   ]
  },
  {
   "cell_type": "markdown",
   "id": "403e52db",
   "metadata": {},
   "source": [
    "Rank the countries based on their number of transactions:"
   ]
  },
  {
   "cell_type": "code",
   "execution_count": 240,
   "id": "224d68f9",
   "metadata": {},
   "outputs": [
    {
     "name": "stdout",
     "output_type": "stream",
     "text": [
      "The top 10 countries with the most transactions are:\n",
      "United Kingdom 361878\n",
      "Germany 9495\n",
      "France 8491\n",
      "EIRE 7485\n",
      "Spain 2533\n",
      "Netherlands 2371\n",
      "Belgium 2069\n",
      "Switzerland 1877\n",
      "Portugal 1480\n",
      "Australia 1259\n"
     ]
    }
   ],
   "source": [
    "def total_count(entry):\n",
    "    return entry[1]\n",
    "data_map = {}\n",
    "for item in df['Country']:\n",
    "    data_map[item] = data_map.get(item, 0) + 1\n",
    "top_items = sorted(data_map.items(), key=extract_count, reverse=True)[:10]\n",
    "print(\"The top 10 countries with the most transactions are:\")\n",
    "for item, number in top_items:\n",
    "    print(f\"{item} {number}\")\n",
    "\n",
    "    "
   ]
  },
  {
   "cell_type": "markdown",
   "id": "08f7753d",
   "metadata": {},
   "source": [
    "Some general descriptions about the products:"
   ]
  },
  {
   "cell_type": "code",
   "execution_count": 241,
   "id": "e1f053f6",
   "metadata": {},
   "outputs": [
    {
     "name": "stdout",
     "output_type": "stream",
     "text": [
      "There are 3896 products. Top 20 are:\n",
      "[\n",
      "'WHITE HANGING HEART T-LIGHT HOLDER',\n",
      "'REGENCY CAKESTAND 3 TIER',\n",
      "'JUMBO BAG RED RETROSPOT',\n",
      "'ASSORTED COLOUR BIRD ORNAMENT',\n",
      "'PARTY BUNTING',\n",
      "'LUNCH BAG RED RETROSPOT',\n",
      "'SET OF 3 CAKE TINS PANTRY DESIGN ',\n",
      "'POSTAGE',\n",
      "'LUNCH BAG  BLACK SKULL.',\n",
      "'PACK OF 72 RETROSPOT CAKE CASES',\n",
      "'SPOTTY BUNTING',\n",
      "'PAPER CHAIN KIT 50'S CHRISTMAS ',\n",
      "'LUNCH BAG SPACEBOY DESIGN ',\n",
      "'LUNCH BAG CARS BLUE',\n",
      "'NATURAL SLATE HEART CHALKBOARD ',\n",
      "'HEART OF WICKER SMALL',\n",
      "'LUNCH BAG PINK POLKADOT',\n",
      "'JAM MAKING SET WITH JARS',\n",
      "'REX CASH+CARRY JUMBO SHOPPER',\n",
      "'LUNCH BAG SUKI DESIGN ',\n",
      "]\n"
     ]
    }
   ],
   "source": [
    "total_count = df['Description'].nunique()\n",
    "t20 = df['Description'].value_counts().head(20).index.tolist()\n",
    "\n",
    "print(f\"There are {total_count} products. Top 20 are:\")\n",
    "print(\"[\")\n",
    "for item in t20:\n",
    "    print(f\"'{item}',\")\n",
    "print(\"]\")\n"
   ]
  },
  {
   "cell_type": "markdown",
   "id": "9286f4f8",
   "metadata": {},
   "source": [
    "What are the top 5 pairs of the most frequently purchased product together?"
   ]
  },
  {
   "cell_type": "markdown",
   "id": "89a54037",
   "metadata": {},
   "source": [
    "Hint: By purchased together, you may want to check this based on the InvoiceNo. If two items have the same invoice number, then that means they are bought together."
   ]
  },
  {
   "cell_type": "code",
   "execution_count": 242,
   "id": "f96ea1ed",
   "metadata": {},
   "outputs": [
    {
     "name": "stdout",
     "output_type": "stream",
     "text": [
      "They are:\n",
      "GREEN REGENCY TEACUP AND SAUCER with ROSES REGENCY TEACUP AND SAUCER \n",
      "JUMBO BAG PINK POLKADOT with JUMBO BAG RED RETROSPOT\n",
      "ALARM CLOCK BAKELIKE GREEN with ALARM CLOCK BAKELIKE RED \n",
      "LUNCH BAG PINK POLKADOT with LUNCH BAG RED RETROSPOT\n",
      "LUNCH BAG  BLACK SKULL. with LUNCH BAG RED RETROSPOT\n"
     ]
    }
   ],
   "source": [
    "grouped_df = df[df['InvoiceNo'].duplicated(keep=False)]\n",
    "grouped_descriptions = {}\n",
    "for i, row in grouped_df.iterrows():\n",
    "    invoice = row['InvoiceNo']\n",
    "    description = row['Description']\n",
    "    if invoice not in grouped_descriptions:\n",
    "        grouped_descriptions[invoice] = []\n",
    "    grouped_descriptions[invoice].append(description)\n",
    "grouped_list = []\n",
    "for key, value in grouped_descriptions.items():\n",
    "    unique_items = list(set(value))\n",
    "    sorted_items = sorted(unique_items)\n",
    "    grouped_list.append(sorted_items)\n",
    "def generate_pairs(items):\n",
    "    pairs = []\n",
    "    for i in range(len(items)):\n",
    "        for j in range(i+1, len(items)):\n",
    "            pairs.append((items[i], items[j]))\n",
    "    return pairs\n",
    "all_pairs = []\n",
    "for items in grouped_list:\n",
    "    pairs = generate_pairs(items)\n",
    "    all_pairs.extend(pairs)\n",
    "pair_count  = {}\n",
    "for pair in all_pairs:\n",
    "    if pair in pair_count:\n",
    "        pair_count[pair] += 1\n",
    "    else:\n",
    "        pair_count[pair] = 1\n",
    "sorted_pairs = sorted(pair_count.items(), key = lambda x: x[1], reverse=True)\n",
    "\n",
    "print(\"They are:\")\n",
    "for i in range(5):\n",
    "    pair, count = sorted_pairs[i]\n",
    "    print(pair[0], \"with\", pair[1])"
   ]
  },
  {
   "cell_type": "markdown",
   "id": "7e0ed230",
   "metadata": {},
   "source": [
    "Find out the top-10 customers with the most spendings:"
   ]
  },
  {
   "cell_type": "code",
   "execution_count": 243,
   "id": "f66efe1d",
   "metadata": {},
   "outputs": [
    {
     "name": "stdout",
     "output_type": "stream",
     "text": [
      "Top 10 Customers by Spending:\n",
      "CustomerID\tCountry\tSpending\n",
      "14646.0\tNetherlands\t279,489.02\n",
      "18102.0\tUnited Kingdom\t256,438.49\n",
      "17450.0\tUnited Kingdom\t187,482.17\n",
      "14911.0\tEIRE\t132,572.62\n",
      "12415.0\tAustralia\t123,725.45\n",
      "14156.0\tEIRE\t113,384.14\n",
      "17511.0\tUnited Kingdom\t88,125.38\n",
      "16684.0\tUnited Kingdom\t65,892.08\n",
      "13694.0\tUnited Kingdom\t62,653.10\n",
      "15311.0\tUnited Kingdom\t59,419.34\n"
     ]
    }
   ],
   "source": [
    "df['TotalSpent'] = df['Quantity'] * df['UnitPrice']\n",
    "top_spending = df.groupby(['CustomerID', 'Country'])['TotalSpent'].sum().sort_values(ascending=False).head(10)\n",
    "print(\"Top 10 Customers by Spending:\")\n",
    "print(\"CustomerID\\tCountry\\tSpending\")\n",
    "for (customer, country), total in top_spending.items():\n",
    "    print(f\"{customer}\\t{country}\\t{total:,.2f}\")"
   ]
  },
  {
   "cell_type": "code",
   "execution_count": null,
   "id": "e715f8e2",
   "metadata": {},
   "outputs": [],
   "source": []
  }
 ],
 "metadata": {
  "kernelspec": {
   "display_name": "Python 3 (ipykernel)",
   "language": "python",
   "name": "python3"
  },
  "language_info": {
   "codemirror_mode": {
    "name": "ipython",
    "version": 3
   },
   "file_extension": ".py",
   "mimetype": "text/x-python",
   "name": "python",
   "nbconvert_exporter": "python",
   "pygments_lexer": "ipython3",
   "version": "3.9.13"
  }
 },
 "nbformat": 4,
 "nbformat_minor": 5
}
